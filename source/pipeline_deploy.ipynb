{
 "cells": [
  {
   "cell_type": "code",
   "execution_count": 356,
   "metadata": {},
   "outputs": [],
   "source": [
    "import json\n",
    "import kfp\n",
    "import kfp.dsl as dsl\n",
    "import kfp.components as comp\n",
    "from kfp.components import OutputPath\n",
    "\n",
    "\n"
   ]
  },
  {
   "cell_type": "markdown",
   "metadata": {},
   "source": [
    "#### Pipeline Configurations"
   ]
  },
  {
   "cell_type": "code",
   "execution_count": 357,
   "metadata": {},
   "outputs": [],
   "source": [
    "# replace this value with the value of the KFP host name\n",
    "KFP_HOST_NAME = '13e48231a6e5f8f-dot-us-central2.pipelines.googleusercontent.com'\n",
    "# change caching policy of KFP run (useful in debug/dev mode)\n",
    "disable_cache = False\n",
    "#number of days hold out for validation\n",
    "validation_days = 100"
   ]
  },
  {
   "cell_type": "code",
   "execution_count": 358,
   "metadata": {},
   "outputs": [],
   "source": [
    "client = kfp.Client(host=KFP_HOST_NAME)"
   ]
  },
  {
   "cell_type": "markdown",
   "metadata": {},
   "source": [
    "#### Component - Download raw data"
   ]
  },
  {
   "cell_type": "code",
   "execution_count": 359,
   "metadata": {},
   "outputs": [],
   "source": [
    "def download_raw_data(raw_data_path: str) -> str:\n",
    "    '''load data from local storage'''\n",
    "    import pandas as pd\n",
    "    import numpy as np\n",
    "    from google.cloud import storage\n",
    "    import re\n",
    "\n",
    "    \n",
    "    API_URL = 'http://projects.knmi.nl/klimatologie/daggegevens/getdata_dag.cgi'\n",
    "    API_KEY = \"stns=370\"\n",
    "    # 370:         5.377       51.451      22.60  EINDHOVEN\n",
    "    import urllib3\n",
    "    import json\n",
    "\n",
    "    with open(\"raw_data.txt\", \"w\") as dt:\n",
    "        import requests\n",
    "        stations = [370]\n",
    "        params = {\n",
    "            \"stns\": \"370\",\n",
    "            \"start\": \"20150101\",\n",
    "        }\n",
    "        print(params)\n",
    "\n",
    "        url = 'http://projects.knmi.nl/klimatologie/daggegevens/getdata_dag.cgi'\n",
    "        myobj = API_KEY\n",
    "\n",
    "        r = requests.post(url, data = params)\n",
    "        dt.write(r.text)\n",
    "\n",
    "    with open('raw_data.txt', 'r') as fin:\n",
    "        data = fin.read().splitlines(True)\n",
    "    with open('edit.txt', 'w') as fout:\n",
    "        fout.writelines(data[48:])\n",
    "    with open('edit.txt', 'r') as fin:\n",
    "        file = fin.readlines()\n",
    "    \n",
    "    import csv\n",
    "    import re\n",
    "    with open('raw_data.csv', 'w') as dt:\n",
    "        csvv = csv.writer(dt)\n",
    "        file[0] = file[0].replace('# ','')\n",
    "        for row in file:\n",
    "            row = re.sub(r'(?<=[,])(?=[^\\s])', r' ', row)\n",
    "            csvv.writerow(row.split())\n",
    "\n",
    "    \n",
    "    df =  pd.read_csv(\"raw_data.csv\", error_bad_lines=False)\n",
    "    \n",
    "    def dfreplace(df, *args, **kwargs):\n",
    "        s = pd.Series(df.values.flatten())\n",
    "        s = s.str.replace(*args, **kwargs)\n",
    "        return pd.DataFrame(s.values.reshape(df.shape), df.index, df.columns)\n",
    "    \n",
    "    df = df.drop([0], axis = 0)\n",
    "    weather_df = dfreplace(df, ',', '')\n",
    "     \n",
    "    for i in weather_df.columns:\n",
    "        weather_df[i] = weather_df[i].astype(str)\n",
    "        weather_df[i][weather_df[i].apply(lambda i: True if re.search('^\\s*$', str(i)) else False)]=np.NaN\n",
    "    print(weather_df.columns)\n",
    "    print(weather_df)\n",
    "    print('trying to write to GS')\n",
    "    weather_df.to_parquet(raw_data_path, compression='GZIP')\n",
    "    print('Done!')\n",
    "    return raw_data_path"
   ]
  },
  {
   "cell_type": "code",
   "execution_count": 360,
   "metadata": {},
   "outputs": [],
   "source": [
    "# create a KFP component\n",
    "download_raw_data_op = comp.create_component_from_func(\n",
    "    download_raw_data, output_component_file='download_raw_data.yaml', packages_to_install=['fastparquet', 'fsspec', 'gcsfs', \"google-cloud-storage\"])"
   ]
  },
  {
   "cell_type": "markdown",
   "metadata": {},
   "source": [
    "#### Component - Feature processing"
   ]
  },
  {
   "cell_type": "code",
   "execution_count": 361,
   "metadata": {},
   "outputs": [],
   "source": [
    "def feature_processing(raw_data_path: str, feature_data_path: str, validation_days: int) -> str:\n",
    "    '''calculate features for our machine learning model'''\n",
    "    import pandas as pd\n",
    "    from datetime import datetime\n",
    "\n",
    "    # read dataframe\n",
    "    weather_df = pd.read_parquet(raw_data_path)\n",
    "    \n",
    "    # create empty df to store feature\n",
    "    weather_features_df = weather_df.drop(weather_df.tail(validation_days).index, inplace=False, axis=0)\n",
    "    \n",
    "    #create variables for years, months and days\n",
    "    weather_features_df['YYYY'] = weather_features_df['YYYYMMDD,'].str.slice(0,4) #create a variable for years\n",
    "    weather_features_df['MM'] = weather_features_df['YYYYMMDD,'].str.slice(4,6)#create a variable for months\n",
    "    weather_features_df['DD'] = weather_features_df['YYYYMMDD,'].str.slice(6,8)\n",
    "    for i in weather_features_df.columns:\n",
    "            weather_features_df[i] = weather_features_df[i].astype(float, errors= 'ignore') \n",
    "    weather_features_df = weather_features_df.drop('YYYYMMDD,', axis=1)\n",
    "    weather_features_df['TG,'] = weather_features_df['TG,'].div(10)\n",
    "    weather_features_df['TG_future'] = weather_features_df['TG,'].shift(periods = -1)\n",
    "    \n",
    "    #remove irrelevant features manually\n",
    "    weather_features_df = weather_features_df.drop(columns = ['STN,','EV24,', 'NG,', 'TN,', 'TNH,', 'TX,', 'TXH,', 'T10N,', 'T10NH,', 'UNH'])\n",
    "    print(weather_features_df)\n",
    "    weather_features_df = weather_features_df.dropna()\n",
    "    print(len(weather_features_df))\n",
    "\n",
    "    weather_features_df.to_parquet(feature_data_path, compression='GZIP')\n",
    "    features_numbers = len(weather_features_df.columns) - 1\n",
    "    print('Writing %s features' % (features_numbers))\n",
    "    print('Total number of %s rows' % (len(weather_features_df)))\n",
    "    print('Done!')\n",
    "    \n",
    "    return feature_data_path"
   ]
  },
  {
   "cell_type": "code",
   "execution_count": 362,
   "metadata": {},
   "outputs": [],
   "source": [
    "# create a KFP component\n",
    "feature_processing_op = comp.create_component_from_func(\n",
    "    feature_processing, output_component_file='feature_processing.yaml', packages_to_install=['fastparquet', 'fsspec', 'gcsfs', 'google-cloud-storage'])"
   ]
  },
  {
   "cell_type": "markdown",
   "metadata": {},
   "source": [
    "#### Component - Train weather model regression"
   ]
  },
  {
   "cell_type": "code",
   "execution_count": 363,
   "metadata": {},
   "outputs": [],
   "source": [
    "def train_regression_weather_model(feature_data_path: str, regression_weather_model_path: str, validation_days: int) -> str:\n",
    "    '''train a regression model with default parameters'''\n",
    "    import pandas as pd\n",
    "    import _pickle as cPickle # save ML model\n",
    "    from google.cloud import storage # save the model to GCS\n",
    "    from sklearn.metrics import mean_absolute_error, mean_squared_error\n",
    "    from sklearn.linear_model import LinearRegression\n",
    "    from sklearn.model_selection import train_test_split\n",
    "    from urllib.parse import urlparse\n",
    "    \n",
    "    # read dataframe\n",
    "    weather_features_df = pd.read_parquet(feature_data_path)\n",
    "    # holdout latest datelines used for validation    \n",
    "    # get x and y\n",
    "    x_train, y_train = weather_features_df.drop('TG_future', axis=1), weather_features_df['TG_future']\n",
    "    # split the data for initial testing\n",
    "    X_train, X_test, Y_train, Y_test = train_test_split(x_train, y_train, test_size=0.2,random_state=1)\n",
    "    \n",
    "    # train the model\n",
    "    print('Training regression model')\n",
    "    print('Shape of X: %s, %s' % (len(x_train), len(x_train.columns)))\n",
    "    regression_model = LinearRegression()\n",
    "    regression_model.fit(X_train, Y_train)\n",
    "    \n",
    "    # some initial testing\n",
    "    predictions = regression_model.predict(X_test)\n",
    "    print('mean absolute error without optimization: %s' % mean_absolute_error(Y_test, predictions))\n",
    "    print('mean squared error without optimization is: %s' % mean_squared_error(Y_test, predictions)) \n",
    "    \n",
    "    # write out output\n",
    "    # save the model into temp\n",
    "    with open('/tmp/model.pickle', 'wb') as f:\n",
    "        cPickle.dump(regression_model, f, -1)\n",
    "        \n",
    "    # get client and write to GCS\n",
    "    # parse model write path for GS\n",
    "    parse = urlparse(url=regression_weather_model_path, allow_fragments=False)\n",
    "    if parse.path[0] =='/':\n",
    "        model_path = parse.path[1:]\n",
    "        \n",
    "    client = storage.Client()\n",
    "    bucket = client.get_bucket(parse.netloc)\n",
    "    blob = bucket.blob(model_path)\n",
    "    blob.upload_from_filename('/tmp/model.pickle')\n",
    "    \n",
    "    return regression_weather_model_path"
   ]
  },
  {
   "cell_type": "code",
   "execution_count": 364,
   "metadata": {},
   "outputs": [],
   "source": [
    "# create a KFP component\n",
    "train_regression_weather_model_op = comp.create_component_from_func(\n",
    "    train_regression_weather_model, output_component_file='train_regression_weather_model.yaml', packages_to_install=['scikit-learn', 'fastparquet', 'fsspec', 'gcsfs', 'google-cloud-storage'])"
   ]
  },
  {
   "cell_type": "markdown",
   "metadata": {},
   "source": [
    "#### Component - Train Random Forest weather model"
   ]
  },
  {
   "cell_type": "code",
   "execution_count": 365,
   "metadata": {},
   "outputs": [],
   "source": [
    "def train_rf_weather_model(feature_data_path: str, rf_weather_model_path: str, validation_days: int) -> str:\n",
    "    '''train a random forest model with default parameters'''\n",
    "    import json\n",
    "    import pandas as pd\n",
    "    import _pickle as cPickle # save ML model\n",
    "    from google.cloud import storage # save the model to GCS\n",
    "    from sklearn.ensemble import RandomForestRegressor\n",
    "    from sklearn.metrics import mean_absolute_error, mean_squared_error\n",
    "    from sklearn.model_selection import train_test_split\n",
    "    from urllib.parse import urlparse\n",
    "    \n",
    "    # read dataframe\n",
    "    weather_df = pd.read_parquet(feature_data_path)\n",
    "    # holdout latest datelines used for validation\n",
    "    weather_features_df = weather_df.drop(weather_df.tail(validation_days).index, inplace=False, axis=0)\n",
    "    # get x and y\n",
    "    x_train, y_train = weather_features_df.drop('TG_future', axis=1), weather_features_df['TG_future']\n",
    "    # split the data for initial testing\n",
    "    X_train, X_test, Y_train, Y_test = train_test_split(x_train, y_train, test_size=0.2,random_state=1)\n",
    "    \n",
    "    # train the model\n",
    "    print('Training random forest model')\n",
    "    print('Shape of X: %s, %s' % (len(x_train), len(x_train.columns)))\n",
    "    model_rf = RandomForestRegressor(random_state = 42, max_depth = 3, min_samples_split = 0.1)\n",
    "\n",
    "    model_rf.fit(X_train, Y_train)\n",
    "    \n",
    "    # some initial testing\n",
    "    predictions = model_rf.predict(X_test)\n",
    "    print('mean absolute error without optimization: %s' % mean_absolute_error(Y_test, predictions))\n",
    "    print('mean squared error without optimization is: %s' % mean_squared_error(Y_test, predictions)) \n",
    "    \n",
    "    temp_model_path = '/tmp/model.pickle'\n",
    "    \n",
    "    # write out output\n",
    "    # save the model into temp\n",
    "    with open(temp_model_path, 'wb') as f:\n",
    "        cPickle.dump(model_rf, f, -1)\n",
    "        \n",
    "    # get client and write to GCS\n",
    "    # parse model write path for GS\n",
    "    parse = urlparse(url=rf_weather_model_path, allow_fragments=False)\n",
    "    \n",
    "    if parse.path[0] =='/':\n",
    "        model_path = parse.path[1:]\n",
    "    client = storage.Client()\n",
    "    bucket = client.get_bucket(parse.netloc)\n",
    "    model = bucket.blob(model_path)\n",
    "    model.upload_from_filename(temp_model_path)\n",
    "    \n",
    "    return rf_weather_model_path"
   ]
  },
  {
   "cell_type": "code",
   "execution_count": 366,
   "metadata": {},
   "outputs": [],
   "source": [
    "# create a KFP component\n",
    "train_rf_weather_model_op = comp.create_component_from_func(\n",
    "    train_rf_weather_model, output_component_file='train_rf_weather_model.yaml', packages_to_install=['scikit-learn', 'fastparquet', 'fsspec', 'gcsfs', 'google-cloud-storage'])"
   ]
  },
  {
   "cell_type": "markdown",
   "metadata": {},
   "source": [
    "#### Component - Evaluate the models"
   ]
  },
  {
   "cell_type": "code",
   "execution_count": 367,
   "metadata": {},
   "outputs": [],
   "source": [
    "def eval_models(feature_data_path: str, regression_weather_model_path, rf_weather_model_path: str, validation_days: int, rf_prediction_path: str, reg_prediction_path: str) -> str:\n",
    "    '''Evaluate different models on holdout dataset to see which model performs the best'''\n",
    "    import json\n",
    "    import pandas as pd\n",
    "    from io import BytesIO\n",
    "    import _pickle as cPickle # save ML model\n",
    "    from google.cloud import storage # save the model to GCS\n",
    "    from sklearn.ensemble import RandomForestRegressor\n",
    "    from sklearn.linear_model import LinearRegression\n",
    "    from sklearn.metrics import mean_absolute_error, mean_squared_error\n",
    "    from sklearn.model_selection import train_test_split\n",
    "    from urllib.parse import urlparse\n",
    "    from collections import namedtuple\n",
    "    from matplotlib import pyplot as plt \n",
    "    \n",
    "    # read dataframe\n",
    "    weather_df = pd.read_parquet(feature_data_path)\n",
    "    # holdout latest datelines used for validation\n",
    "    weather_features_df = weather_df.drop(weather_df.tail(validation_days).index, inplace=False, axis=0)#validation set\n",
    "    \n",
    "    weather_validation_df = weather_df.tail(validation_days)\n",
    "    \n",
    "    x_val, y_val = weather_validation_df.drop('TG_future', axis=1), weather_validation_df['TG_future']\n",
    "    \n",
    "    def get_mae(model_path):\n",
    "        '''this function evaluates a model on the validation dataset given just the model path'''\n",
    "        parse = urlparse(url=model_path, allow_fragments=False)\n",
    "\n",
    "        if parse.path[0] =='/':\n",
    "            model_path = parse.path[1:]\n",
    "\n",
    "        client = storage.Client()\n",
    "        bucket = client.get_bucket(parse.netloc)\n",
    "        blob = bucket.get_blob(model_path)\n",
    "        if blob is None:\n",
    "            raise AttributeError('No files to download') \n",
    "        model_bytestream = BytesIO(blob.download_as_string())\n",
    "        model = cPickle.load(model_bytestream)\n",
    "        predictions = model.predict(x_val)\n",
    "            \n",
    "        return mean_absolute_error(y_val, predictions)\n",
    "    def get_prediction(model_path):\n",
    "        '''this function evaluates a model on the validation dataset given just the model path'''\n",
    "        parse = urlparse(url=model_path, allow_fragments=False)\n",
    "\n",
    "        if parse.path[0] =='/':\n",
    "            model_path = parse.path[1:]\n",
    "\n",
    "        client = storage.Client()\n",
    "        bucket = client.get_bucket(parse.netloc)\n",
    "        blob = bucket.get_blob(model_path)\n",
    "        if blob is None:\n",
    "            raise AttributeError('No files to download') \n",
    "        model_bytestream = BytesIO(blob.download_as_string())\n",
    "        model = cPickle.load(model_bytestream)\n",
    "        predictions = model.predict(x_val)\n",
    "        print(y_val.values)\n",
    "        print(predictions)\n",
    "        prediction_df =pd.DataFrame(data = {'prediction' : predictions, 'true value': y_val.values})\n",
    "\n",
    "        return prediction_df\n",
    "    \n",
    "    prediction_df_rf = get_prediction(rf_weather_model_path)\n",
    "    prediction_df_reg = get_prediction(regression_weather_model_path)\n",
    "    \n",
    "    prediction_df_rf.to_parquet(rf_prediction_path, compression='GZIP')\n",
    "    prediction_df_reg.to_parquet(reg_prediction_path, compression='GZIP')\n",
    "\n",
    "\n",
    "    Models = namedtuple('Model', 'type score path')\n",
    "    m_list = list()\n",
    "    \n",
    "    regression_mae = get_mae(regression_weather_model_path)\n",
    "    m_list.append(Models('regression', regression_mae, regression_weather_model_path))\n",
    "    \n",
    "    rf_mae = get_mae(rf_weather_model_path)\n",
    "    m_list.append(Models('rf', rf_mae, rf_weather_model_path))\n",
    "    \n",
    "    max_score = max([model.score for model in m_list])\n",
    "    max_score_index = [model.score for model in m_list].index(max_score)\n",
    "    print('Best Model: ', m_list[max_score_index])\n",
    "    path = m_list[max_score_index].path\n",
    "    print(path)\n",
    "    return path\n"
   ]
  },
  {
   "cell_type": "code",
   "execution_count": 368,
   "metadata": {},
   "outputs": [],
   "source": [
    "# create a KFP component\n",
    "eval_models_op = comp.create_component_from_func(\n",
    "    eval_models, output_component_file='eval_models.yaml', packages_to_install=['scikit-learn', 'fastparquet','matplotlib', 'fsspec', 'gcsfs', 'google-cloud-storage'])"
   ]
  },
  {
   "cell_type": "markdown",
   "metadata": {},
   "source": [
    "#### Create and run KubeFlow pipeline"
   ]
  },
  {
   "cell_type": "code",
   "execution_count": 371,
   "metadata": {},
   "outputs": [
    {
     "data": {
      "text/html": [
       "<a href=\"http://13e48231a6e5f8f-dot-us-central2.pipelines.googleusercontent.com/#/experiments/details/b477fff4-3b70-4646-bb98-1360d0e3c791\" target=\"_blank\" >Experiment details</a>."
      ],
      "text/plain": [
       "<IPython.core.display.HTML object>"
      ]
     },
     "metadata": {},
     "output_type": "display_data"
    },
    {
     "data": {
      "text/html": [
       "<a href=\"http://13e48231a6e5f8f-dot-us-central2.pipelines.googleusercontent.com/#/runs/details/13d86f8c-b537-49cc-a44e-d554fdb0a00d\" target=\"_blank\" >Run details</a>."
      ],
      "text/plain": [
       "<IPython.core.display.HTML object>"
      ]
     },
     "metadata": {},
     "output_type": "display_data"
    },
    {
     "data": {
      "text/plain": [
       "RunPipelineResult(run_id=13d86f8c-b537-49cc-a44e-d554fdb0a00d)"
      ]
     },
     "execution_count": 371,
     "metadata": {},
     "output_type": "execute_result"
    }
   ],
   "source": [
    "@dsl.pipeline(\n",
    "  name='Weather regression',\n",
    "  description='Predicting temperature in Eindoven using linear regression and random forest'\n",
    ")\n",
    "def weather_pipeline(raw_data_path, feature_data_path, regression_weather_model_path, rf_weather_model_path, rf_prediction_path, reg_prediction_path, disable_cache, validation_days):\n",
    "\n",
    "    download_raw_data_task = download_raw_data_op(raw_data_path)\n",
    "    feature_processing_task = feature_processing_op(download_raw_data_task.output, feature_data_path, validation_days)\n",
    "    train_regression_weather_model_task = train_regression_weather_model_op(feature_processing_task.output, regression_weather_model_path, validation_days)\n",
    "    train_rf_weather_model_task = train_rf_weather_model_op(feature_processing_task.output, rf_weather_model_path, validation_days)\n",
    "    eval_models_task = eval_models_op(feature_processing_task.output, train_regression_weather_model_task.output, train_rf_weather_model_task.output, validation_days, rf_prediction_path, reg_prediction_path)\n",
    "    #visualize_task = visualize_op(feature_processing_task.output, train_regression_weather_model_task.output, train_rf_weather_model_task.output, validation_days)\n",
    "    if disable_cache:\n",
    "        download_raw_data_task.execution_options.caching_strategy.max_cache_staleness = \"P0D\"\n",
    "        feature_processing_task.execution_options.caching_strategy.max_cache_staleness = \"P0D\"\n",
    "        train_regression_weather_model_task.execution_options.caching_strategy.max_cache_staleness = \"P0D\"\n",
    "        train_rf_weather_model_task.execution_options.caching_strategy.max_cache_staleness = \"P0D\"\n",
    "        eval_models_task.execution_options.caching_strategy.max_cache_staleness = \"P0D\"\n",
    "    \n",
    "# Specify argument values for pipeline run.\n",
    "arguments = {'raw_data_path': 'gs://bucket_de/raw/weater.parquet',\n",
    "            'feature_data_path': 'gs://bucket_de/raw/feature_data/weater_features.parquet',\n",
    "            'regression_weather_model_path': 'gs://bucket_de/model_store/vanilla/model.pkl',\n",
    "            'rf_weather_model_path': 'gs://bucket_de/model_store/rf/model.pkl',\n",
    "             'rf_prediction_path' : 'gs://bucket_de/model_store/rf/prediction.parquet',\n",
    "             'reg_prediction_path' : 'gs://bucket_de/model_store/model_store/prediction.parquet',\n",
    "            'disable_cache': disable_cache,\n",
    "            'validation_days': validation_days,\n",
    "            }\n",
    "\n",
    "\n",
    "\n",
    "\n",
    "\n",
    "    \n",
    "# Create a pipeline run, using the client you initialized in a prior step.\n",
    "#client.create_run_from_pipeline_func(weather_pipeline, arguments=arguments)\n",
    "if __name__ == '__main__':\n",
    "    kfp.compiler.Compiler().compile(pipeline_deploy, __file__ + '.yaml')"
   ]
  },
  {
   "cell_type": "markdown",
   "metadata": {},
   "source": [
    "#ipynb-py-convert pipeline_deploy.ipynb pipeline_deploy.py"
   ]
  },
  {
   "cell_type": "markdown",
   "metadata": {},
   "source": [
    "#dsl-compile --py './pipeline_deploy.py' --output './pipeline_deploy.tar.gz'"
   ]
  },
  {
   "cell_type": "code",
   "execution_count": 375,
   "metadata": {},
   "outputs": [
    {
     "name": "stdout",
     "output_type": "stream",
     "text": [
      "/bin/bash: wkdir: command not found\n"
     ]
    }
   ],
   "source": []
  },
  {
   "cell_type": "code",
   "execution_count": null,
   "metadata": {},
   "outputs": [],
   "source": []
  }
 ],
 "metadata": {
  "environment": {
   "name": "common-cpu.m59",
   "type": "gcloud",
   "uri": "gcr.io/deeplearning-platform-release/base-cpu:m59"
  },
  "kernelspec": {
   "display_name": "Python 3",
   "language": "python",
   "name": "python3"
  },
  "language_info": {
   "codemirror_mode": {
    "name": "ipython",
    "version": 3
   },
   "file_extension": ".py",
   "mimetype": "text/x-python",
   "name": "python",
   "nbconvert_exporter": "python",
   "pygments_lexer": "ipython3",
   "version": "3.7.8"
  }
 },
 "nbformat": 4,
 "nbformat_minor": 4
}
