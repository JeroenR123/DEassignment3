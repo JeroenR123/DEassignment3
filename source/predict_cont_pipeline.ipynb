{
 "cells": [
  {
   "cell_type": "code",
   "execution_count": 55,
   "metadata": {},
   "outputs": [],
   "source": [
    "import json\n",
    "import kfp\n",
    "import kfp.dsl as dsl\n",
    "import kfp.components as comp\n",
    "from kfp.components import OutputPath"
   ]
  },
  {
   "cell_type": "markdown",
   "metadata": {},
   "source": [
    "#### Pipeline Configurations"
   ]
  },
  {
   "cell_type": "code",
   "execution_count": 56,
   "metadata": {},
   "outputs": [],
   "source": [
    "# replace this value with the value of the KFP host name\n",
    "KFP_HOST_NAME = 'https://13e48231a6e5f8f-dot-us-central2.pipelines.googleusercontent.com/'\n",
    "# change caching policy of KFP run (useful in debug/dev mode)\n",
    "disable_cache = False\n",
    "#number of days hold out for validation\n",
    "mltype = 'rf'"
   ]
  },
  {
   "cell_type": "code",
   "execution_count": 57,
   "metadata": {},
   "outputs": [],
   "source": [
    "client = kfp.Client(host=KFP_HOST_NAME)"
   ]
  },
  {
   "cell_type": "markdown",
   "metadata": {},
   "source": [
    "#### Component - Download raw data"
   ]
  },
  {
   "cell_type": "code",
   "execution_count": 58,
   "metadata": {},
   "outputs": [],
   "source": [
    "def download_raw_data(raw_data_path: str) -> str:\n",
    "    '''load data from local storage'''\n",
    "    import pandas as pd\n",
    "    import numpy as np\n",
    "    from google.cloud import storage\n",
    "    import re\n",
    "    from datetime import date, timedelta\n",
    "\n",
    "    yesterday = date.today() - timedelta(days=1)\n",
    "\n",
    "    # YYYYMMDD\n",
    "    yesterday = yesterday.strftime(\"%Y%m%d\")\n",
    "    print(\"d1 =\", yesterday)\n",
    "    \n",
    "    API_URL = 'http://projects.knmi.nl/klimatologie/daggegevens/getdata_dag.cgi'\n",
    "    API_KEY = \"stns=370\"\n",
    "    # 370:         5.377       51.451      22.60  EINDHOVEN\n",
    "    import urllib3\n",
    "    import json\n",
    "    \n",
    "    with open(\"raw_data.txt\", \"w\") as dt:\n",
    "        import requests\n",
    "        stations = [370]\n",
    "        params = {\n",
    "            \"stns\": \"370\",\n",
    "            \"start\": yesterday,\n",
    "        }\n",
    "        print(params)\n",
    "\n",
    "        url = 'http://projects.knmi.nl/klimatologie/daggegevens/getdata_dag.cgi'\n",
    "        myobj = API_KEY\n",
    "\n",
    "        r = requests.post(url, data = params)\n",
    "        dt.write(r.text)\n",
    "\n",
    "    with open('raw_data.txt', 'r') as fin:\n",
    "        data = fin.read().splitlines(True)\n",
    "    with open('edit.txt', 'w') as fout:\n",
    "        fout.writelines(data[48:])\n",
    "    with open('edit.txt', 'r') as fin:\n",
    "        file = fin.readlines()\n",
    "    \n",
    "    import csv\n",
    "    import re\n",
    "    with open('raw_data.csv', 'w') as dt:\n",
    "        csvv = csv.writer(dt)\n",
    "        file[0] = file[0].replace('# ','')\n",
    "        for row in file:\n",
    "            row = re.sub(r'(?<=[,])(?=[^\\s])', r' ', row)\n",
    "            csvv.writerow(row.split())\n",
    "\n",
    "    \n",
    "    df =  pd.read_csv(\"raw_data.csv\", error_bad_lines=False)\n",
    "    \n",
    "    def dfreplace(df, *args, **kwargs):\n",
    "        s = pd.Series(df.values.flatten())\n",
    "        s = s.str.replace(*args, **kwargs)\n",
    "        return pd.DataFrame(s.values.reshape(df.shape), df.index, df.columns)\n",
    "    \n",
    "    df = df.drop([0], axis = 0)\n",
    "    weather_df = dfreplace(df, ',', '')\n",
    "     \n",
    "    for i in weather_df.columns:\n",
    "        weather_df[i] = weather_df[i].astype(str)\n",
    "        weather_df[i][weather_df[i].apply(lambda i: True if re.search('^\\s*$', str(i)) else False)]=np.NaN\n",
    "    print(weather_df.columns)\n",
    "    print(weather_df)\n",
    "    print('trying to write to GS')\n",
    "    weather_df.to_parquet(raw_data_path, compression='GZIP')\n",
    "    print('Done!')\n",
    "    return raw_data_path"
   ]
  },
  {
   "cell_type": "code",
   "execution_count": 59,
   "metadata": {},
   "outputs": [],
   "source": [
    "# create a KFP component\n",
    "download_raw_data_op = comp.create_component_from_func(\n",
    "    download_raw_data, output_component_file='download_raw_data.yaml', packages_to_install=['fastparquet', 'fsspec', 'gcsfs', \"google-cloud-storage\"])"
   ]
  },
  {
   "cell_type": "markdown",
   "metadata": {},
   "source": [
    "#### Component - Feature processing"
   ]
  },
  {
   "cell_type": "code",
   "execution_count": 60,
   "metadata": {},
   "outputs": [],
   "source": [
    "def feature_processing(raw_data_path: str, new_feature_data_path: str) -> str:\n",
    "    '''calculate features for our machine learning model'''\n",
    "    import pandas as pd\n",
    "    from datetime import datetime\n",
    "\n",
    "    # read dataframe\n",
    "    weather_df = pd.read_parquet(raw_data_path)\n",
    "    \n",
    "    # create empty df to store feature\n",
    "    weather_features_df = weather_df\n",
    "    \n",
    "    #create variables for years, months and days\n",
    "    weather_features_df['YYYY'] = weather_features_df['YYYYMMDD,'].str.slice(0,4) #create a variable for years\n",
    "    weather_features_df['MM'] = weather_features_df['YYYYMMDD,'].str.slice(4,6)#create a variable for months\n",
    "    weather_features_df['DD'] = weather_features_df['YYYYMMDD,'].str.slice(6,8)\n",
    "    for i in weather_features_df.columns:\n",
    "            weather_features_df[i] = weather_features_df[i].astype(float, errors= 'ignore') \n",
    "    weather_features_df = weather_features_df.drop('YYYYMMDD,', axis=1)\n",
    "    weather_features_df['TG,'] = weather_features_df['TG,'].div(10)\n",
    "    weather_features_df['TG_future'] = weather_features_df['TG,']\n",
    "    \n",
    "    #remove irrelevant features manually\n",
    "    weather_features_df = weather_features_df.drop(columns = ['STN,','EV24,', 'NG,', 'TN,', 'TNH,', 'TX,', 'TXH,', 'T10N,', 'T10NH,', 'UNH'])\n",
    "    weather_features_df = weather_features_df.dropna()\n",
    "\n",
    "    weather_features_df.to_parquet(new_feature_data_path, compression='GZIP')\n",
    "    features_numbers = len(weather_features_df.columns) - 1\n",
    "    print('Writing %s features' % (features_numbers))\n",
    "    print(weather_features_df)\n",
    "    print('Done!')\n",
    "    \n",
    "    return new_feature_data_path"
   ]
  },
  {
   "cell_type": "code",
   "execution_count": 61,
   "metadata": {},
   "outputs": [],
   "source": [
    "# create a KFP component\n",
    "feature_processing_op = comp.create_component_from_func(\n",
    "    feature_processing, output_component_file='feature_processing.yaml', packages_to_install=['fastparquet', 'fsspec', 'gcsfs', 'google-cloud-storage'])"
   ]
  },
  {
   "cell_type": "markdown",
   "metadata": {},
   "source": [
    "#### Component - Predict model"
   ]
  },
  {
   "cell_type": "code",
   "execution_count": 62,
   "metadata": {},
   "outputs": [],
   "source": [
    "def predict_weather_model(new_feature_data_path: str, mltype: str, prediction_path: str) -> str:\n",
    "    import json\n",
    "    import pandas as pd\n",
    "    import _pickle as cPickle # save ML model\n",
    "    from google.cloud import storage # save the model to GCS\n",
    "    from sklearn.ensemble import RandomForestClassifier\n",
    "    from sklearn.metrics import mean_absolute_error, mean_squared_error\n",
    "    from sklearn.model_selection import train_test_split\n",
    "    from urllib.parse import urlparse\n",
    "    from io import BytesIO\n",
    "    import numpy as np\n",
    "    if mltype == 'rf':\n",
    "        model_path = 'gs://bucket_de/model_store/rf/model.pkl'\n",
    "    elif mltype == 'reg':\n",
    "        model_path = 'gs://bucket_de/model_store/vanilla/model.pkl'\n",
    "    \n",
    "\n",
    "\n",
    "    parse = urlparse(url=model_path, allow_fragments=False)\n",
    "\n",
    "    if parse.path[0] =='/':\n",
    "        model_path = parse.path[1:]\n",
    "\n",
    "    client = storage.Client()\n",
    "    bucket = client.get_bucket(parse.netloc)\n",
    "    blob = bucket.get_blob(model_path)\n",
    "    if blob is None:\n",
    "        raise AttributeError('No files to download') \n",
    "    model_bytestream = BytesIO(blob.download_as_string())\n",
    "    model = cPickle.load(model_bytestream)\n",
    "    weather_features_df = pd.read_parquet(new_feature_data_path)\n",
    "    x = weather_features_df.drop('TG_future', axis=1)\n",
    "    print(x)\n",
    "    predictions = model.predict(x)\n",
    "    predictions = pd.DataFrame(data= {'prediction': predictions})\n",
    "    print('the weather today will be %s' % (predictions))\n",
    "    predictions.to_parquet(prediction_path, compression='GZIP')\n",
    "    return prediction_path"
   ]
  },
  {
   "cell_type": "code",
   "execution_count": 63,
   "metadata": {},
   "outputs": [],
   "source": [
    "# create a KFP component\n",
    "predict_weather_model_op = comp.create_component_from_func(\n",
    "    predict_weather_model, output_component_file='train_regression_weather_model.yaml', packages_to_install=['scikit-learn', 'fastparquet', 'fsspec', 'gcsfs', 'google-cloud-storage'])"
   ]
  },
  {
   "cell_type": "markdown",
   "metadata": {},
   "source": [
    "#### Create and run KubeFlow pipeline"
   ]
  },
  {
   "cell_type": "code",
   "execution_count": 65,
   "metadata": {},
   "outputs": [
    {
     "data": {
      "text/html": [
       "<a href=\"https://13e48231a6e5f8f-dot-us-central2.pipelines.googleusercontent.com//#/experiments/details/b477fff4-3b70-4646-bb98-1360d0e3c791\" target=\"_blank\" >Experiment details</a>."
      ],
      "text/plain": [
       "<IPython.core.display.HTML object>"
      ]
     },
     "metadata": {},
     "output_type": "display_data"
    },
    {
     "data": {
      "text/html": [
       "<a href=\"https://13e48231a6e5f8f-dot-us-central2.pipelines.googleusercontent.com//#/runs/details/8b277332-d97c-42c7-b610-41e4639c6890\" target=\"_blank\" >Run details</a>."
      ],
      "text/plain": [
       "<IPython.core.display.HTML object>"
      ]
     },
     "metadata": {},
     "output_type": "display_data"
    },
    {
     "data": {
      "text/plain": [
       "\"if __name__ == '__main__':\\n    kfp.compiler.Compiler().compile(p, __file__ + '.yaml')\""
      ]
     },
     "execution_count": 65,
     "metadata": {},
     "output_type": "execute_result"
    }
   ],
   "source": [
    "@dsl.pipeline(\n",
    "  name='Predict weather',\n",
    "  description='Predicting temperature in Eindoven using linear regression and random forest'\n",
    ")\n",
    "def predict_pipeline(raw_data_path, new_feature_data_path, prediction_path, mltype, disable_cache):\n",
    "\n",
    "    download_raw_data_task = download_raw_data_op(raw_data_path)\n",
    "    feature_processing_task = feature_processing_op(download_raw_data_task.output, new_feature_data_path)\n",
    "    prediction_task = predict_weather_model_op(feature_processing_task.output, mltype, prediction_path)\n",
    "    \n",
    "    if disable_cache:\n",
    "        download_raw_data_task.execution_options.caching_strategy.max_cache_staleness = \"P0D\"\n",
    "        feature_processing_task.execution_options.caching_strategy.max_cache_staleness = \"P0D\"\n",
    "        prediction_task.execution_options.caching_strategy.max_cache_staleness = \"P0D\"\n",
    "\n",
    "\n",
    "# Specify argument values for pipeline run.\n",
    "arguments = {'raw_data_path': 'gs://bucket_de/new_raw/weater.parquet',\n",
    "            'new_feature_data_path': 'gs://bucket_de/raw/new_data/weater_features.parquet',\n",
    "            'prediction_path' :'gs://bucket_de/model_store/prediction/prediction.parquet',\n",
    "            'disable_cache': disable_cache,\n",
    "            'mltype' : mltype\n",
    "            }\n",
    "\n",
    "\n",
    "    \n",
    "# Create a pipeline run, using the client you initialized in a prior step.\n",
    "#client.create_run_from_pipeline_func(predict_pipeline, arguments=arguments)\n",
    "if __name__ == '__main__':\n",
    "    kfp.compiler.Compiler().compile(p, __file__ + '.yaml')"
   ]
  },
  {
   "cell_type": "markdown",
   "metadata": {},
   "source": [
    "## Run to create tar.gz"
   ]
  },
  {
   "cell_type": "markdown",
   "metadata": {},
   "source": [
    "#ipynb-py-convert predict_cont_pipeline.ipynb predict_cont_pipeline.py\n",
    "\n",
    "#dsl-compile --py './predict_cont_pipeline' --output './predict_cont_pipeline.tar.gz'"
   ]
  },
  {
   "cell_type": "code",
   "execution_count": null,
   "metadata": {},
   "outputs": [],
   "source": []
  }
 ],
 "metadata": {
  "environment": {
   "name": "common-cpu.m59",
   "type": "gcloud",
   "uri": "gcr.io/deeplearning-platform-release/base-cpu:m59"
  },
  "kernelspec": {
   "display_name": "Python 3",
   "language": "python",
   "name": "python3"
  },
  "language_info": {
   "codemirror_mode": {
    "name": "ipython",
    "version": 3
   },
   "file_extension": ".py",
   "mimetype": "text/x-python",
   "name": "python",
   "nbconvert_exporter": "python",
   "pygments_lexer": "ipython3",
   "version": "3.7.8"
  }
 },
 "nbformat": 4,
 "nbformat_minor": 4
}
