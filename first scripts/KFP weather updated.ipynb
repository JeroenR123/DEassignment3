{
 "cells": [
  {
   "cell_type": "code",
   "execution_count": 1,
   "metadata": {},
   "outputs": [
    {
     "ename": "ModuleNotFoundError",
     "evalue": "No module named 'kfp'",
     "output_type": "error",
     "traceback": [
      "\u001b[1;31m---------------------------------------------------------------------------\u001b[0m",
      "\u001b[1;31mModuleNotFoundError\u001b[0m                       Traceback (most recent call last)",
      "\u001b[1;32m<ipython-input-1-f73b7dde1dfe>\u001b[0m in \u001b[0;36m<module>\u001b[1;34m\u001b[0m\n\u001b[0;32m      1\u001b[0m \u001b[1;32mimport\u001b[0m \u001b[0mjson\u001b[0m\u001b[1;33m\u001b[0m\u001b[1;33m\u001b[0m\u001b[0m\n\u001b[1;32m----> 2\u001b[1;33m \u001b[1;32mimport\u001b[0m \u001b[0mkfp\u001b[0m\u001b[1;33m\u001b[0m\u001b[1;33m\u001b[0m\u001b[0m\n\u001b[0m\u001b[0;32m      3\u001b[0m \u001b[1;32mimport\u001b[0m \u001b[0mkfp\u001b[0m\u001b[1;33m.\u001b[0m\u001b[0mdsl\u001b[0m \u001b[1;32mas\u001b[0m \u001b[0mdsl\u001b[0m\u001b[1;33m\u001b[0m\u001b[1;33m\u001b[0m\u001b[0m\n\u001b[0;32m      4\u001b[0m \u001b[1;32mimport\u001b[0m \u001b[0mkfp\u001b[0m\u001b[1;33m.\u001b[0m\u001b[0mcomponents\u001b[0m \u001b[1;32mas\u001b[0m \u001b[0mcomp\u001b[0m\u001b[1;33m\u001b[0m\u001b[1;33m\u001b[0m\u001b[0m\n\u001b[0;32m      5\u001b[0m \u001b[1;32mfrom\u001b[0m \u001b[0mkfp\u001b[0m\u001b[1;33m.\u001b[0m\u001b[0mcomponents\u001b[0m \u001b[1;32mimport\u001b[0m \u001b[0mOutputPath\u001b[0m\u001b[1;33m\u001b[0m\u001b[1;33m\u001b[0m\u001b[0m\n",
      "\u001b[1;31mModuleNotFoundError\u001b[0m: No module named 'kfp'"
     ]
    }
   ],
   "source": [
    "import json\n",
    "import kfp\n",
    "import kfp.dsl as dsl\n",
    "import kfp.components as comp\n",
    "from kfp.components import OutputPath"
   ]
  },
  {
   "cell_type": "markdown",
   "metadata": {},
   "source": [
    "#### Pipeline Configurations"
   ]
  },
  {
   "cell_type": "code",
   "execution_count": 2,
   "metadata": {},
   "outputs": [],
   "source": [
    "# replace this value with the value of the KFP host name\n",
    "KFP_HOST_NAME = 'https://XYZ.pipelines.googleusercontent.com/'\n",
    "# change caching policy of KFP run (useful in debug/dev mode)\n",
    "disable_cache = False\n",
    "#number of days hold out for validation\n",
    "validation_days = 100"
   ]
  },
  {
   "cell_type": "code",
   "execution_count": 3,
   "metadata": {},
   "outputs": [
    {
     "ename": "NameError",
     "evalue": "name 'kfp' is not defined",
     "output_type": "error",
     "traceback": [
      "\u001b[1;31m---------------------------------------------------------------------------\u001b[0m",
      "\u001b[1;31mNameError\u001b[0m                                 Traceback (most recent call last)",
      "\u001b[1;32m<ipython-input-3-6455059cbd7d>\u001b[0m in \u001b[0;36m<module>\u001b[1;34m\u001b[0m\n\u001b[1;32m----> 1\u001b[1;33m \u001b[0mclient\u001b[0m \u001b[1;33m=\u001b[0m \u001b[0mkfp\u001b[0m\u001b[1;33m.\u001b[0m\u001b[0mClient\u001b[0m\u001b[1;33m(\u001b[0m\u001b[0mhost\u001b[0m\u001b[1;33m=\u001b[0m\u001b[0mKFP_HOST_NAME\u001b[0m\u001b[1;33m)\u001b[0m\u001b[1;33m\u001b[0m\u001b[1;33m\u001b[0m\u001b[0m\n\u001b[0m",
      "\u001b[1;31mNameError\u001b[0m: name 'kfp' is not defined"
     ]
    }
   ],
   "source": [
    "client = kfp.Client(host=KFP_HOST_NAME)"
   ]
  },
  {
   "cell_type": "markdown",
   "metadata": {},
   "source": [
    "#### Component - Download raw data"
   ]
  },
  {
   "cell_type": "code",
   "execution_count": 18,
   "metadata": {},
   "outputs": [],
   "source": [
    "def download_raw_data(raw_data_path: str) -> str:\n",
    "    '''load data from local storage'''\n",
    "    df =  pd.read_csv(\"raw_data2.csv\", error_bad_lines=False)\n",
    "    print('Downloaded data...')\n",
    "    \n",
    "    def dfreplace(df, *args, **kwargs):\n",
    "        s = pd.Series(df.values.flatten())\n",
    "        s = s.str.replace(*args, **kwargs)\n",
    "    return pd.DataFrame(s.values.reshape(df.shape), df.index, df.columns)\n",
    "\n",
    "    weather_df = dfreplace(df, ',', '')\n",
    "\n",
    "    for i in weather_df.columns:\n",
    "        weather_df[i] = weather_df[i].astype(str)\n",
    "        weather_df[i][weather_df[i].apply(lambda i: True if re.search('^\\s*$', str(i)) else False)]=np.NaN\n",
    "\n",
    "    print(weather_df.head())\n",
    "    print('trying to write to GS')\n",
    "    weather_df.to_parquet(raw_data_path, compression='GZIP')\n",
    "    print('Done!')\n",
    "    return raw_data_path"
   ]
  },
  {
   "cell_type": "code",
   "execution_count": 19,
   "metadata": {},
   "outputs": [],
   "source": [
    "# create a KFP component\n",
    "download_raw_data_op = comp.create_component_from_func(\n",
    "    download_raw_data, output_component_file='download_raw_data.yaml', packages_to_install=['fastparquet', 'fsspec', 'gcsfs'])"
   ]
  },
  {
   "cell_type": "markdown",
   "metadata": {},
   "source": [
    "#### Component - Feature processing"
   ]
  },
  {
   "cell_type": "code",
   "execution_count": 20,
   "metadata": {},
   "outputs": [],
   "source": [
    "def feature_processing(raw_data_path: str, feature_data_path: str) -> str:\n",
    "    '''calculate features for our machine learning model'''\n",
    "    import pandas as pd\n",
    "    from datetime import datetime\n",
    "\n",
    "    # read dataframe\n",
    "    weather_df = pd.read_parquet(raw_data_path)\n",
    "    \n",
    "    # create empty df to store feature\n",
    "    weather_features_df = weather_df\n",
    "    \n",
    "    #create variables for years, months and days\n",
    "    weather_features_df['YYYY'] = weather_features_df['YYYYMMDD,'].str.slice(0,4) #create a variable for years\n",
    "    weather_features_df['MM'] = weather_features_df['YYYYMMDD,'].str.slice(4,6)#create a variable for months\n",
    "    weather_features_df['DD'] = weather_features_df['YYYYMMDD,'].str.slice(6,8)\n",
    "    for i in weather_features_df.columns:\n",
    "            weather_features_df[i] = weather_features_df[i].astype(float, errors= 'ignore') \n",
    "    weather_features_df = weather_features_df.drop('YYYYMMDD,', axis=1)\n",
    "    \n",
    "    weather_features_df['TG_future'] = weather_features_df['TG,'].shift(periods = -1)\n",
    "    \n",
    "    #remove irrelevant features manually\n",
    "    weather_features_df = weather_features_df.drop(columns = ['STN,','EV24', 'NG,', 'TN,', 'TNH,', 'TX,', 'TXH,', 'T10N,', 'T10NH,'])\n",
    "    weather_features_df = weather_features_df.dropna()\n",
    "\n",
    "    weather_features_df.to_parquet(feature_data_path, compression='GZIP')\n",
    "    features_numbers = len(weather_features_df.columns) - 1\n",
    "    print('Writing %s features' (features_numbers))\n",
    "    print('Done!')\n",
    "    \n",
    "    return feature_data_path"
   ]
  },
  {
   "cell_type": "code",
   "execution_count": 21,
   "metadata": {},
   "outputs": [],
   "source": [
    "# create a KFP component\n",
    "feature_processing_op = comp.create_component_from_func(\n",
    "    feature_processing, output_component_file='feature_processing.yaml', packages_to_install=['fastparquet', 'fsspec', 'gcsfs'])"
   ]
  },
  {
   "cell_type": "markdown",
   "metadata": {},
   "source": [
    "#### Component - Train weather model regression"
   ]
  },
  {
   "cell_type": "code",
   "execution_count": 22,
   "metadata": {},
   "outputs": [],
   "source": [
    "def train_regression_weather_model(feature_data_path: str, regression_weather_model_path: str, validation_days: str) -> str:\n",
    "    '''train a regression model with default parameters'''\n",
    "    import pandas as pd\n",
    "    import _pickle as cPickle # save ML model\n",
    "    from google.cloud import storage # save the model to GCS\n",
    "    from sklearn.metrics import mean_absolute_error, mean_squared_error\n",
    "    from sklearn.linear_model import LinearRegression\n",
    "    from sklearn.model_selection import train_test_split\n",
    "    from urllib.parse import urlparse\n",
    "    \n",
    "    # read dataframe\n",
    "    weather_df = pd.read_parquet(feature_data_path)\n",
    "    # holdout latest datelines used for validation\n",
    "    weather_features_df = weather_df.drop(weather_df.tail(validation_days).index, inplace=True) # drop last n rows\n",
    "    \n",
    "    # get x and y\n",
    "    x_train, y_train = weather_features_df.drop('TG_future', axis=1), weather_features_df['TG_future']\n",
    "    # split the data for initial testing\n",
    "    X_train, X_test, Y_train, Y_test = train_test_split(x_train, y_train, test_size=0.2,random_state=1)\n",
    "    \n",
    "    # train the model\n",
    "    print('Training regression model')\n",
    "    print('Shape of X: %s, %s' % (len(x_train), len(x_train.columns)))\n",
    "    regression_model = LinearRegression()\n",
    "    regression_model.fit(X_train, Y_train)\n",
    "    \n",
    "    # some initial testing\n",
    "    predictions = regression_model.predict(X_test)\n",
    "    print('mean absolute error without optimization: %s' % mean_absolute_error(Y_test, predictions))\n",
    "    print('mean squared error without optimization is: %s' % mean_squared_error(Y_test, predictions)) \n",
    "    \n",
    "    # write out output\n",
    "    # save the model into temp\n",
    "    with open('/tmp/model.pickle', 'wb') as f:\n",
    "        cPickle.dump(regression_model, f, -1)\n",
    "        \n",
    "    # get client and write to GCS\n",
    "    # parse model write path for GS\n",
    "    parse = urlparse(url=regression_weather_model_path, allow_fragments=False)\n",
    "    if parse.path[0] =='/':\n",
    "        model_path = parse.path[1:]\n",
    "        \n",
    "    client = storage.Client()\n",
    "    bucket = client.get_bucket(parse.netloc)\n",
    "    blob = bucket.blob(model_path)\n",
    "    blob.upload_from_filename('/tmp/model.pickle')\n",
    "    \n",
    "    return regression_weather_model_path"
   ]
  },
  {
   "cell_type": "code",
   "execution_count": 23,
   "metadata": {},
   "outputs": [],
   "source": [
    "# create a KFP component\n",
    "train_regression_weather_model_op = comp.create_component_from_func(\n",
    "    train_regression_weather_model, output_component_file='train_regression_weather_model.yaml', packages_to_install=['scikit-learn', 'fastparquet', 'fsspec', 'gcsfs', 'google-cloud-storage'])"
   ]
  },
  {
   "cell_type": "markdown",
   "metadata": {},
   "source": [
    "#### Component - Train Random Forest weather model"
   ]
  },
  {
   "cell_type": "code",
   "execution_count": 24,
   "metadata": {},
   "outputs": [],
   "source": [
    "def train_rf_weather_model(feature_data_path: str, rf_weather_model_path: str, validation_days: str) -> str:\n",
    "    '''train a random forest model with default parameters'''\n",
    "    import json\n",
    "    import pandas as pd\n",
    "    import _pickle as cPickle # save ML model\n",
    "    from google.cloud import storage # save the model to GCS\n",
    "    from sklearn.ensemble import RandomForestRegressor\n",
    "    from sklearn.metrics import mean_absolute_error, mean_squared_error\n",
    "    from sklearn.model_selection import train_test_split\n",
    "    from urllib.parse import urlparse\n",
    "    \n",
    "    # read dataframe\n",
    "    weather_df = pd.read_parquet(feature_data_path)\n",
    "    # holdout latest datelines used for validation\n",
    "    weather_features_df = weather_df.drop(weather_df.tail(validation_days).index, inplace=True) # drop last n rows\n",
    "    \n",
    "    # get x and y\n",
    "    x_train, y_train = weather_features_df.drop('TG_future,', axis=1), weather_features_df['TG_future']\n",
    "    # split the data for initial testing\n",
    "    X_train, X_test, Y_train, Y_test = train_test_split(x_train, y_train, test_size=0.2,random_state=1)\n",
    "    \n",
    "    # train the model\n",
    "    print('Training random forest model')\n",
    "    print('Shape of X: %s, %s' % (len(x_train), len(x_train.columns)))\n",
    "    model_rf = RandomForestClassifier(random_state = 42, criterion = 'entropy',\n",
    "                                        max_depth = 3, min_samples_split = 0.1)\n",
    "\n",
    "    model_rf.fit(X_train, Y_train)\n",
    "    \n",
    "    # some initial testing\n",
    "    predictions = model_rf.predict(X_test)\n",
    "    print('mean absolute error without optimization: %s' % mean_absolute_error(Y_test, predictions))\n",
    "    print('mean squared error without optimization is: %s' % mean_squared_error(Y_test, predictions)) \n",
    "    \n",
    "    temp_model_path = '/tmp/model.pickle'\n",
    "    \n",
    "    # write out output\n",
    "    # save the model into temp\n",
    "    with open(temp_model_path, 'wb') as f:\n",
    "        cPickle.dump(model_rf, f, -1)\n",
    "        \n",
    "    # get client and write to GCS\n",
    "    # parse model write path for GS\n",
    "    parse = urlparse(url=rf_weather_model_path, allow_fragments=False)\n",
    "    \n",
    "    if parse.path[0] =='/':\n",
    "        model_path = parse.path[1:]\n",
    "    client = storage.Client()\n",
    "    bucket = client.get_bucket(parse.netloc)\n",
    "    model = bucket.blob(model_path)\n",
    "    model.upload_from_filename(temp_model_path)\n",
    "    \n",
    "    return rf_weather_model_path"
   ]
  },
  {
   "cell_type": "code",
   "execution_count": 25,
   "metadata": {},
   "outputs": [],
   "source": [
    "# create a KFP component\n",
    "train_rf_weather_model_op = comp.create_component_from_func(\n",
    "    train_rf_weather_model, output_component_file='train_rf_weather_model.yaml', packages_to_install=['scikit-learn', 'fastparquet', 'fsspec', 'gcsfs', 'google-cloud-storage'])"
   ]
  },
  {
   "cell_type": "markdown",
   "metadata": {},
   "source": [
    "#### Component - Evaluate the models"
   ]
  },
  {
   "cell_type": "code",
   "execution_count": 26,
   "metadata": {},
   "outputs": [],
   "source": [
    "def eval_models(feature_data_path: str, regression_weather_model_path, rf_weather_model_path: str, validation_days: str) -> None:\n",
    "    '''Evaluate different models on holdout dataset to see which model performs the best'''\n",
    "    import json\n",
    "    import pandas as pd\n",
    "    from io import BytesIO\n",
    "    import _pickle as cPickle # save ML model\n",
    "    from google.cloud import storage # save the model to GCS\n",
    "    from sklearn.ensemble import RandomForestRegressor\n",
    "        from sklearn.linear_model import LinearRegression\n",
    "    from sklearn.metrics import mean_absolute_error, mean_squared_error\n",
    "    from sklearn.model_selection import train_test_split\n",
    "    from urllib.parse import urlparse\n",
    "    from collections import namedtuple\n",
    "    \n",
    "    # read dataframe\n",
    "    weather_df = pd.read_parquet(feature_data_path)\n",
    "    # holdout latest datelines used for validation\n",
    "    weather_features_df = weather_df.drop(weather_df.tail(validation_days).index, inplace=True) # drop last n rows\n",
    "    #validation set\n",
    "    weather_validation_df = weather_df.tail(validation_days)\n",
    "    \n",
    "    x_val, y_val = weather_validation_df.drop('TG_future', axis=1), weather_validation_df['TG_future']\n",
    "    \n",
    "    def get_mae(model_path):\n",
    "        '''this function evaluates a model on the validation dataset given just the model path'''\n",
    "        parse = urlparse(url=model_path, allow_fragments=False)\n",
    "\n",
    "        if parse.path[0] =='/':\n",
    "            model_path = parse.path[1:]\n",
    "\n",
    "        client = storage.Client()\n",
    "        bucket = client.get_bucket(parse.netloc)\n",
    "        blob = bucket.get_blob(model_path)\n",
    "        if blob is None:\n",
    "            raise AttributeError('No files to download') \n",
    "        model_bytestream = BytesIO(blob.download_as_string())\n",
    "        model = cPickle.load(model_bytestream)\n",
    "        predictions = model.predict(x_val)\n",
    "        return mean_absolute_error(y_val, predictions)\n",
    "    \n",
    "    Models = namedtuple('Model', 'type score path')\n",
    "    m_list = list()\n",
    "    \n",
    "    regression_mae = get_mae(regression_weather_model_path)\n",
    "    m_list.append(Models('regression', regression_mae, regression_weather_model_path))\n",
    "    \n",
    "    rf_mae = get_mae(rf_weather_model_path)\n",
    "    m_list.append(Models('rf', rf_mae, rf_weather_model_path))\n",
    "    \n",
    "    max_score = max([model.score for model in m_list])\n",
    "    max_score_index = [model.score for model in m_list].index(max_score)\n",
    "    print('Best Model: ', m_list[max_score_index])\n",
    "    path = m_list[max_score_index].path\n",
    "    return path"
   ]
  },
  {
   "cell_type": "code",
   "execution_count": 27,
   "metadata": {},
   "outputs": [],
   "source": [
    "# create a KFP component\n",
    "eval_models_op = comp.create_component_from_func(\n",
    "    eval_models, output_component_file='eval_models.yaml', packages_to_install=['scikit-learn', 'fastparquet', 'fsspec', 'gcsfs', 'google-cloud-storage'])"
   ]
  },
  {
   "cell_type": "markdown",
   "metadata": {},
   "source": [
    "#### Create and run KubeFlow pipeline"
   ]
  },
  {
   "cell_type": "code",
   "execution_count": 28,
   "metadata": {},
   "outputs": [
    {
     "data": {
      "text/html": [
       "<a href=\"https://1fd335d21193c3a4-dot-us-central2.pipelines.googleusercontent.com//#/experiments/details/86306210-5b47-4df9-989c-19b3d13465a3\" target=\"_blank\" >Experiment details</a>."
      ],
      "text/plain": [
       "<IPython.core.display.HTML object>"
      ]
     },
     "metadata": {},
     "output_type": "display_data"
    },
    {
     "data": {
      "text/html": [
       "<a href=\"https://1fd335d21193c3a4-dot-us-central2.pipelines.googleusercontent.com//#/runs/details/5d1c5816-857d-45fe-87b2-df7f4704b92f\" target=\"_blank\" >Run details</a>."
      ],
      "text/plain": [
       "<IPython.core.display.HTML object>"
      ]
     },
     "metadata": {},
     "output_type": "display_data"
    },
    {
     "data": {
      "text/plain": [
       "RunPipelineResult(run_id=5d1c5816-857d-45fe-87b2-df7f4704b92f)"
      ]
     },
     "execution_count": 28,
     "metadata": {},
     "output_type": "execute_result"
    }
   ],
   "source": [
    "@dsl.pipeline(\n",
    "  name='Weather regression',\n",
    "  description='Predicting temperature in Eindoven using linear regression and random forest'\n",
    ")\n",
    "def weather_pipeline(raw_data_path, feature_data_path, regression_weather_model_path, rf_weather_model_path, disable_cache):\n",
    "\n",
    "  download_raw_data_task = download_raw_data_op(raw_data_path)\n",
    "  feature_processing_task = feature_processing_op(download_raw_data_task.output, feature_data_path)\n",
    "  train_regression_weather_model_task = train_regression_weather_model_op(feature_processing_task.output, regression_weather_model_path)\n",
    "  train_rf_weather_model_task = train_rf_weather_model_op(feature_processing_task.output, rf_weather_model_path)\n",
    "  eval_models_task = eval_models_op(feature_processing_task.output, train_regression_weather_model_task.output, train_rf_weather_model_task.output)\n",
    "\n",
    "  if disable_cache:\n",
    "      download_raw_data_task.execution_options.caching_strategy.max_cache_staleness = \"P0D\"\n",
    "      feature_processing_task.execution_options.caching_strategy.max_cache_staleness = \"P0D\"\n",
    "      train_regression_weather_model_task.execution_options.caching_strategy.max_cache_staleness = \"P0D\"\n",
    "      train_rf_weather_model_task.execution_options.caching_strategy.max_cache_staleness = \"P0D\"\n",
    "      eval_models_task.execution_options.caching_strategy.max_cache_staleness = \"P0D\"\n",
    "    \n",
    "# Specify argument values for pipeline run.\n",
    "arguments = {'raw_data_path': 'gs://mlops-stock-prediction/raw/sp500.parquet',\n",
    "            'feature_data_path': 'gs://mlops-stock-prediction/feature_store/sp500_features.parquet',\n",
    "            'regression_weather_model_path': 'gs://mlops-stock-prediction/model_store/vanilla/vanilla_rf.pickle',\n",
    "            'rf_weather_model_path': 'gs://mlops-stock-prediction/model_store/rf/rf_rf.pickle',\n",
    "            'disable_cache': disable_cache,\n",
    "            'validation_days': validation_days,\n",
    "            }\n",
    "    \n",
    "# Create a pipeline run, using the client you initialized in a prior step.\n",
    "client.create_run_from_pipeline_func(weather_pipeline, arguments=arguments)"
   ]
  }
 ],
 "metadata": {
  "environment": {
   "name": "common-cpu.m59",
   "type": "gcloud",
   "uri": "gcr.io/deeplearning-platform-release/base-cpu:m59"
  },
  "kernelspec": {
   "display_name": "Python 3",
   "language": "python",
   "name": "python3"
  },
  "language_info": {
   "codemirror_mode": {
    "name": "ipython",
    "version": 3
   },
   "file_extension": ".py",
   "mimetype": "text/x-python",
   "name": "python",
   "nbconvert_exporter": "python",
   "pygments_lexer": "ipython3",
   "version": "3.7.6"
  }
 },
 "nbformat": 4,
 "nbformat_minor": 4
}
