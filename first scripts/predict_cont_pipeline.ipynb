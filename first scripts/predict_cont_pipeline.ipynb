{
 "cells": [
  {
   "cell_type": "code",
   "execution_count": 204,
   "metadata": {},
   "outputs": [],
   "source": [
    "import json\n",
    "import kfp\n",
    "import kfp.dsl as dsl\n",
    "import kfp.components as comp\n",
    "from kfp.components import OutputPath"
   ]
  },
  {
   "cell_type": "markdown",
   "metadata": {},
   "source": [
    "#### Pipeline Configurations"
   ]
  },
  {
   "cell_type": "code",
   "execution_count": 205,
   "metadata": {},
   "outputs": [],
   "source": [
    "# replace this value with the value of the KFP host name\n",
    "KFP_HOST_NAME = 'https://527bd6f955d1f721-dot-us-central2.pipelines.googleusercontent.com/'\n",
    "# change caching policy of KFP run (useful in debug/dev mode)\n",
    "disable_cache = False\n",
    "#number of days hold out for validation\n",
    "mltype = rf"
   ]
  },
  {
   "cell_type": "code",
   "execution_count": 206,
   "metadata": {},
   "outputs": [],
   "source": [
    "client = kfp.Client(host=KFP_HOST_NAME)"
   ]
  },
  {
   "cell_type": "markdown",
   "metadata": {},
   "source": [
    "#### Component - Download raw data"
   ]
  },
  {
   "cell_type": "code",
   "execution_count": 207,
   "metadata": {},
   "outputs": [],
   "source": [
    "def download_raw_data(raw_data_path: str) -> str:\n",
    "    '''load data from local storage'''\n",
    "    import pandas as pd\n",
    "    import numpy as np\n",
    "    from google.cloud import storage\n",
    "    import re\n",
    "\n",
    "    \n",
    "    \"\"\"Downloads a blob from the bucket.\"\"\"\n",
    "    bucket_name = \"bucket_de\"\n",
    "    source_blob_name = \"raw/raw_data2.csv\"\n",
    "    destination_file_name = \"tmp/raw_data2.csv\"\n",
    "\n",
    "    storage_client = storage.Client()\n",
    "    \n",
    "    bucket = storage_client.bucket(bucket_name)\n",
    "    blob = bucket.blob(source_blob_name)\n",
    "    blob.download_to_filename(destination_file_name)\n",
    "    print('Downloaded data...')\n",
    "\n",
    "    #import wget\n",
    "    #wget -O bestand --post-data=\"variabele=waarde&variabele=waarde&....\" http://projects.knmi.nl/klimatologie/daggegevens/getdata_dag.cgi\n",
    "    #df = pd.read_csv('gs://bucket_de/raw/raw_data2,csv', error_bad_lines = False)\n",
    "    df =  pd.read_csv(\"tmp/raw_data2.csv\", error_bad_lines=False)\n",
    "\n",
    "    \n",
    "    def dfreplace(df, *args, **kwargs):\n",
    "        s = pd.Series(df.values.flatten())\n",
    "        s = s.str.replace(*args, **kwargs)\n",
    "        return pd.DataFrame(s.values.reshape(df.shape), df.index, df.columns)\n",
    "    \n",
    "    weather_df = dfreplace(df, ',', '')\n",
    "    \n",
    "    for i in weather_df.columns:\n",
    "        weather_df[i] = weather_df[i].astype(str)\n",
    "        weather_df[i][weather_df[i].apply(lambda i: True if re.search('^\\s*$', str(i)) else False)]=np.NaN\n",
    "\n",
    "    print(weather_df.head())\n",
    "    print('trying to write to GS')\n",
    "    weather_df.to_parquet(raw_data_path, compression='GZIP')\n",
    "    print('Done!')\n",
    "    return raw_data_path"
   ]
  },
  {
   "cell_type": "code",
   "execution_count": 208,
   "metadata": {},
   "outputs": [],
   "source": [
    "# create a KFP component\n",
    "download_raw_data_op = comp.create_component_from_func(\n",
    "    download_raw_data, output_component_file='download_raw_data.yaml', packages_to_install=['fastparquet', 'fsspec', 'gcsfs', \"google-cloud-storage\"])"
   ]
  },
  {
   "cell_type": "markdown",
   "metadata": {},
   "source": [
    "#### Component - Feature processing"
   ]
  },
  {
   "cell_type": "code",
   "execution_count": 209,
   "metadata": {},
   "outputs": [],
   "source": [
    "def feature_processing(raw_data_path: str, feature_data_path: str) -> str:\n",
    "    '''calculate features for our machine learning model'''\n",
    "    import pandas as pd\n",
    "    from datetime import datetime\n",
    "\n",
    "    # read dataframe\n",
    "    weather_df = pd.read_parquet(raw_data_path)\n",
    "    \n",
    "    # create empty df to store feature\n",
    "    weather_features_df = weather_df\n",
    "    \n",
    "    #create variables for years, months and days\n",
    "    weather_features_df['YYYY'] = weather_features_df['YYYYMMDD,'].str.slice(0,4) #create a variable for years\n",
    "    weather_features_df['MM'] = weather_features_df['YYYYMMDD,'].str.slice(4,6)#create a variable for months\n",
    "    weather_features_df['DD'] = weather_features_df['YYYYMMDD,'].str.slice(6,8)\n",
    "    for i in weather_features_df.columns:\n",
    "            weather_features_df[i] = weather_features_df[i].astype(float, errors= 'ignore') \n",
    "    weather_features_df = weather_features_df.drop('YYYYMMDD,', axis=1)\n",
    "    \n",
    "    weather_features_df['TG_future'] = weather_features_df['TG,'].shift(periods = -1)\n",
    "    \n",
    "    #remove irrelevant features manually\n",
    "    weather_features_df = weather_features_df.drop(columns = ['STN,','EV24', 'NG,', 'TN,', 'TNH,', 'TX,', 'TXH,', 'T10N,', 'T10NH,'])\n",
    "    weather_features_df = weather_features_df.dropna()\n",
    "\n",
    "    weather_features_df.to_parquet(feature_data_path, compression='GZIP')\n",
    "    features_numbers = len(weather_features_df.columns) - 1\n",
    "    print('Writing %s features' % (features_numbers))\n",
    "    print('Done!')\n",
    "    \n",
    "    return feature_data_path"
   ]
  },
  {
   "cell_type": "code",
   "execution_count": 210,
   "metadata": {},
   "outputs": [],
   "source": [
    "# create a KFP component\n",
    "feature_processing_op = comp.create_component_from_func(\n",
    "    feature_processing, output_component_file='feature_processing.yaml', packages_to_install=['fastparquet', 'fsspec', 'gcsfs', 'google-cloud-storage'])"
   ]
  },
  {
   "cell_type": "markdown",
   "metadata": {},
   "source": [
    "#### Component - Predict model"
   ]
  },
  {
   "cell_type": "code",
   "execution_count": 211,
   "metadata": {},
   "outputs": [],
   "source": [
    "def predict_weather_model(feature_data_path: str, regression_weather_model_path: str, validation_days: int) -> str:\n",
    "    import json\n",
    "    import pandas as pd\n",
    "    import _pickle as cPickle # save ML model\n",
    "    from google.cloud import storage # save the model to GCS\n",
    "    from sklearn.ensemble import RandomForestClassifier\n",
    "    from sklearn.metrics import mean_absolute_error, mean_squared_error\n",
    "    from sklearn.model_selection import train_test_split\n",
    "    from urllib.parse import urlparse\n",
    "    if model_type = rf:\n",
    "        model_path = 'gs://bucket_de/model_store/rf/rf_rf.pickle'\n",
    "    \n",
    "    \n",
    "    def predictions(model_path):\n",
    "        '''this function evaluates a model on the validation dataset given just the model path'''\n",
    "        parse = urlparse(url=model_path, allow_fragments=False)\n",
    "\n",
    "        if parse.path[0] =='/':\n",
    "            model_path = parse.path[1:]\n",
    "\n",
    "        client = storage.Client()\n",
    "        bucket = client.get_bucket(parse.netloc)\n",
    "        blob = bucket.get_blob(model_path)\n",
    "        if blob is None:\n",
    "            raise AttributeError('No files to download') \n",
    "        model_bytestream = BytesIO(blob.download_as_string())\n",
    "        model = cPickle.load(model_bytestream)\n",
    "        predictions = model.predict(x)\n",
    "        return predictions\n",
    "    \n",
    "\n",
    "    return regression_weather_model_path"
   ]
  },
  {
   "cell_type": "code",
   "execution_count": 212,
   "metadata": {},
   "outputs": [],
   "source": [
    "# create a KFP component\n",
    "train_regression_weather_model_op = comp.create_component_from_func(\n",
    "    train_regression_weather_model, output_component_file='train_regression_weather_model.yaml', packages_to_install=['scikit-learn', 'fastparquet', 'fsspec', 'gcsfs', 'google-cloud-storage'])"
   ]
  },
  {
   "cell_type": "markdown",
   "metadata": {},
   "source": [
    "#### Create and run KubeFlow pipeline"
   ]
  },
  {
   "cell_type": "code",
   "execution_count": 217,
   "metadata": {},
   "outputs": [
    {
     "data": {
      "text/html": [
       "<a href=\"https://527bd6f955d1f721-dot-us-central2.pipelines.googleusercontent.com//#/experiments/details/4c3f1135-9044-48d6-ba20-19b537dd271f\" target=\"_blank\" >Experiment details</a>."
      ],
      "text/plain": [
       "<IPython.core.display.HTML object>"
      ]
     },
     "metadata": {},
     "output_type": "display_data"
    },
    {
     "data": {
      "text/html": [
       "<a href=\"https://527bd6f955d1f721-dot-us-central2.pipelines.googleusercontent.com//#/runs/details/2eed059f-200c-4bb8-95c3-fd61c8fece8e\" target=\"_blank\" >Run details</a>."
      ],
      "text/plain": [
       "<IPython.core.display.HTML object>"
      ]
     },
     "metadata": {},
     "output_type": "display_data"
    },
    {
     "data": {
      "text/plain": [
       "RunPipelineResult(run_id=2eed059f-200c-4bb8-95c3-fd61c8fece8e)"
      ]
     },
     "execution_count": 217,
     "metadata": {},
     "output_type": "execute_result"
    }
   ],
   "source": [
    "@dsl.pipeline(\n",
    "  name='Weather regression',\n",
    "  description='Predicting temperature in Eindoven using linear regression and random forest'\n",
    ")\n",
    "def weather_pipeline(raw_data_path, feature_data_path, regression_weather_model_path, rf_weather_model_path, disable_cache, validation_days):\n",
    "\n",
    "  download_raw_data_task = download_raw_data_op(raw_data_path)\n",
    "  feature_processing_task = feature_processing_op(download_raw_data_task.output, feature_data_path)\n",
    "  train_regression_weather_model_task = train_regression_weather_model_op(feature_processing_task.output, regression_weather_model_path, validation_days)\n",
    "  train_rf_weather_model_task = train_rf_weather_model_op(feature_processing_task.output, rf_weather_model_path, validation_days)\n",
    "  eval_models_task = eval_models_op(feature_processing_task.output, train_regression_weather_model_task.output, train_rf_weather_model_task.output, validation_days)\n",
    "\n",
    "  if disable_cache:\n",
    "      download_raw_data_task.execution_options.caching_strategy.max_cache_staleness = \"P0D\"\n",
    "      feature_processing_task.execution_options.caching_strategy.max_cache_staleness = \"P0D\"\n",
    "      train_regression_weather_model_task.execution_options.caching_strategy.max_cache_staleness = \"P0D\"\n",
    "      train_rf_weather_model_task.execution_options.caching_strategy.max_cache_staleness = \"P0D\"\n",
    "      eval_models_task.execution_options.caching_strategy.max_cache_staleness = \"P0D\"\n",
    "    \n",
    "# Specify argument values for pipeline run.\n",
    "arguments = {'raw_data_path': 'gs://bucket_de/raw/weater.parquet',\n",
    "            'feature_data_path': 'gs://bucket_de/raw/feature_data/weater_features.parquet',\n",
    "            'regression_weather_model_path': 'gs://bucket_de/model_store/vanilla/vanilla_rf.pickle',\n",
    "            'rf_weather_model_path': 'gs://bucket_de/model_store/rf/rf_rf.pickle',\n",
    "            'disable_cache': disable_cache,\n",
    "            'validation_days': validation_days,\n",
    "            }\n",
    "\n",
    "\n",
    "    \n",
    "# Create a pipeline run, using the client you initialized in a prior step.\n",
    "#client.create_run_from_pipeline_func(weather_pipeline, arguments=arguments)\n",
    "if __name__ == '__main__':\n",
    "    kfp.compiler.Compiler().compile(p, __file__ + '.yaml')"
   ]
  },
  {
   "cell_type": "code",
   "execution_count": null,
   "metadata": {},
   "outputs": [],
   "source": []
  }
 ],
 "metadata": {
  "environment": {
   "name": "common-cpu.m59",
   "type": "gcloud",
   "uri": "gcr.io/deeplearning-platform-release/base-cpu:m59"
  },
  "kernelspec": {
   "display_name": "Python 3",
   "language": "python",
   "name": "python3"
  },
  "language_info": {
   "codemirror_mode": {
    "name": "ipython",
    "version": 3
   },
   "file_extension": ".py",
   "mimetype": "text/x-python",
   "name": "python",
   "nbconvert_exporter": "python",
   "pygments_lexer": "ipython3",
   "version": "3.7.8"
  }
 },
 "nbformat": 4,
 "nbformat_minor": 4
}
