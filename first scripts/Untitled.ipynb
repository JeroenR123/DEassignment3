{
 "cells": [
  {
   "cell_type": "code",
   "execution_count": null,
   "metadata": {},
   "outputs": [],
   "source": [
    "import json\n",
    "import kfp\n",
    "import kfp.dsl as dsl\n",
    "import kfp.components as comp\n",
    "from kfp.components import OutputPath"
   ]
  },
  {
   "cell_type": "code",
   "execution_count": null,
   "metadata": {},
   "outputs": [],
   "source": [
    "# replace this value with the value of the KFP host name\n",
    "KFP_HOST_NAME = 'https://527bd6f955d1f721-dot-us-central2.pipelines.googleusercontent.com/'\n",
    "# change caching policy of KFP run (useful in debug/dev mode)\n",
    "disable_cache = False\n",
    "#number of days hold out for validation\n",
    "validation_days = 100\n",
    "client = kfp.Client(host=KFP_HOST_NAME)"
   ]
  },
  {
   "cell_type": "code",
   "execution_count": null,
   "metadata": {},
   "outputs": [],
   "source": [
    "def service_app() \n",
    "    import os\n",
    "    import pandas as pd\n",
    "    from flask import Flask, request, json\n",
    "    import requests\n",
    "    \n",
    "    app = Flask(__name__)\n",
    "    import os\n",
    "    import json\n",
    "    from joblib import load\n",
    "\n",
    "    def predict(df,clf):\n",
    "        model_repo = os.environ['MODEL_REPO']\n",
    "        file_path = os.path.join(model_repo, \"clf.joblib\")\n",
    "        clf = load(file_path)\n",
    "        X_test = df\n",
    "\n",
    "        # predict and put it in the right format\n",
    "        pred = list(clf.predict(X_test))\n",
    "        pred_dict= {'labels_pred': pred}\n",
    "        message = json.dumps({'message': 'The predictions were saved locally.',\n",
    "                            'prediction': pred_dict['labels_pred']}, sort_keys=False, indent=4), 200\n",
    "        #pred_api = os.environ['PRED_API']\n",
    "        #json.dump(pred_dict, open('prediction.json', 'w'))\n",
    "        return pred, message\n",
    "\n",
    "\n",
    "\n",
    "    @app.route('/predict/<clf>', methods=['POST'])\n",
    "    def predict_classifier(clf):\n",
    "\n",
    "        content = request.get_json()\n",
    "        df = pd.read_json(json.dumps(content), orient='records')\n",
    "        X_test = df.loc[:, df.columns != 'labels']\n",
    "\n",
    "        # Select label\n",
    "        # Prediction with model\n",
    "        pred, message = predict(X_test, clf)\n",
    "        df = X_test\n",
    "        df['labels'] = pred\n",
    "        API_adress = os.environ['DATA_API']\n",
    "        content = df.to_dict(orient='records')\n",
    "        requests.post(API_adress, json=column_names)\n",
    "        requests.put(API_adress, json=content)\n",
    "\n",
    "        return message\n",
    "\n",
    "\n",
    "    app.config[\"DEBUG\"] = True\n",
    "    app.run(host='0.0.0.0', port=5000)"
   ]
  },
  {
   "cell_type": "code",
   "execution_count": null,
   "metadata": {},
   "outputs": [],
   "source": [
    "# create a KFP component\n",
    "download_raw_data_op = comp.create_component_from_func(\n",
    "    download_raw_data, output_component_file='download_raw_data.yaml', packages_to_install=['fastparquet', 'fsspec', 'gcsfs', \"google-cloud-storage\", \"flask\"])"
   ]
  }
 ],
 "metadata": {
  "environment": {
   "name": "common-cpu.m59",
   "type": "gcloud",
   "uri": "gcr.io/deeplearning-platform-release/base-cpu:m59"
  },
  "kernelspec": {
   "display_name": "Python 3",
   "language": "python",
   "name": "python3"
  },
  "language_info": {
   "codemirror_mode": {
    "name": "ipython",
    "version": 3
   },
   "file_extension": ".py",
   "mimetype": "text/x-python",
   "name": "python",
   "nbconvert_exporter": "python",
   "pygments_lexer": "ipython3",
   "version": "3.7.8"
  }
 },
 "nbformat": 4,
 "nbformat_minor": 4
}
